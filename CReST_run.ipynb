{
  "nbformat": 4,
  "nbformat_minor": 0,
  "metadata": {
    "colab": {
      "name": "CReST_run.ipynb",
      "provenance": [],
      "machine_shape": "hm",
      "authorship_tag": "ABX9TyO4e7Kb3vpnI4JzvlwFjWXW",
      "include_colab_link": true
    },
    "kernelspec": {
      "name": "python3",
      "display_name": "Python 3"
    },
    "language_info": {
      "name": "python"
    }
  },
  "cells": [
    {
      "cell_type": "markdown",
      "metadata": {
        "id": "view-in-github",
        "colab_type": "text"
      },
      "source": [
        "<a href=\"https://colab.research.google.com/github/DayBright-David/Semi-Supervised-Learning/blob/main/CReST_run.ipynb\" target=\"_parent\"><img src=\"https://colab.research.google.com/assets/colab-badge.svg\" alt=\"Open In Colab\"/></a>"
      ]
    },
    {
      "cell_type": "code",
      "metadata": {
        "colab": {
          "base_uri": "https://localhost:8080/"
        },
        "id": "TF9Qahr6cNdt",
        "outputId": "498cca1a-8db1-49c2-c519-dc032cdefe5b"
      },
      "source": [
        "from google.colab import drive\n",
        "drive.mount(\"/content/drive\")"
      ],
      "execution_count": 4,
      "outputs": [
        {
          "output_type": "stream",
          "text": [
            "Mounted at /content/drive\n"
          ],
          "name": "stdout"
        }
      ]
    },
    {
      "cell_type": "code",
      "metadata": {
        "colab": {
          "base_uri": "https://localhost:8080/"
        },
        "id": "wXr8Qp6LcZ51",
        "outputId": "a23bd863-1160-4665-f7bd-5f990fb4c712"
      },
      "source": [
        "import os\n",
        "path=\"/content/drive/MyDrive/Semi-Supervised Learning/crest-master\"\n",
        "os.chdir(path)\n",
        "os.listdir(path)\n"
      ],
      "execution_count": 5,
      "outputs": [
        {
          "output_type": "execute_result",
          "data": {
            "text/plain": [
              "['CONTRIBUTING.md',\n",
              " 'README.md',\n",
              " 'mixmatch.py',\n",
              " 'fixmatch.py',\n",
              " 'train_and_eval_loop.py',\n",
              " 'run.sh',\n",
              " 'LICENSE',\n",
              " 'requirements.txt',\n",
              " 'train_and_eval_lib.py',\n",
              " 'pyvenv.cfg',\n",
              " '.gitignore',\n",
              " 'lib',\n",
              " 'model',\n",
              " 'util',\n",
              " 'data',\n",
              " 'third_party',\n",
              " '.idea',\n",
              " 'bin']"
            ]
          },
          "metadata": {
            "tags": []
          },
          "execution_count": 5
        }
      ]
    },
    {
      "cell_type": "code",
      "metadata": {
        "colab": {
          "base_uri": "https://localhost:8080/"
        },
        "id": "-0-HiwNLcrU6",
        "outputId": "d25d59dc-0f67-4f89-8f6c-ae0b26384d29"
      },
      "source": [
        "pip install virtualenv"
      ],
      "execution_count": 6,
      "outputs": [
        {
          "output_type": "stream",
          "text": [
            "Collecting virtualenv\n",
            "  Downloading virtualenv-20.6.0-py2.py3-none-any.whl (5.3 MB)\n",
            "\u001b[K     |████████████████████████████████| 5.3 MB 6.2 MB/s \n",
            "\u001b[?25hRequirement already satisfied: six<2,>=1.9.0 in /usr/local/lib/python3.7/dist-packages (from virtualenv) (1.15.0)\n",
            "Collecting backports.entry-points-selectable>=1.0.4\n",
            "  Downloading backports.entry_points_selectable-1.1.0-py2.py3-none-any.whl (6.2 kB)\n",
            "Collecting distlib<1,>=0.3.1\n",
            "  Downloading distlib-0.3.2-py2.py3-none-any.whl (338 kB)\n",
            "\u001b[K     |████████████████████████████████| 338 kB 43.5 MB/s \n",
            "\u001b[?25hRequirement already satisfied: filelock<4,>=3.0.0 in /usr/local/lib/python3.7/dist-packages (from virtualenv) (3.0.12)\n",
            "Collecting platformdirs<3,>=2\n",
            "  Downloading platformdirs-2.0.2-py2.py3-none-any.whl (10 kB)\n",
            "Requirement already satisfied: importlib-metadata>=0.12 in /usr/local/lib/python3.7/dist-packages (from virtualenv) (4.6.1)\n",
            "Requirement already satisfied: zipp>=0.5 in /usr/local/lib/python3.7/dist-packages (from importlib-metadata>=0.12->virtualenv) (3.5.0)\n",
            "Requirement already satisfied: typing-extensions>=3.6.4 in /usr/local/lib/python3.7/dist-packages (from importlib-metadata>=0.12->virtualenv) (3.7.4.3)\n",
            "Installing collected packages: platformdirs, distlib, backports.entry-points-selectable, virtualenv\n",
            "Successfully installed backports.entry-points-selectable-1.1.0 distlib-0.3.2 platformdirs-2.0.2 virtualenv-20.6.0\n"
          ],
          "name": "stdout"
        }
      ]
    },
    {
      "cell_type": "code",
      "metadata": {
        "colab": {
          "base_uri": "https://localhost:8080/"
        },
        "id": "xo20DFR_g1Bl",
        "outputId": "dba22261-d8a8-4532-844a-946bc954ba29"
      },
      "source": [
        "ls\n"
      ],
      "execution_count": 12,
      "outputs": [
        {
          "output_type": "stream",
          "text": [
            "\u001b[0m\u001b[01;34mbin\u001b[0m/             \u001b[01;34mlib\u001b[0m/         pyvenv.cfg        \u001b[01;34mthird_party\u001b[0m/\n",
            "CONTRIBUTING.md  LICENSE      README.md         train_and_eval_lib.py\n",
            "\u001b[01;34mdata\u001b[0m/            mixmatch.py  requirements.txt  train_and_eval_loop.py\n",
            "fixmatch.py      \u001b[01;34mmodel\u001b[0m/       \u001b[01;32mrun.sh\u001b[0m*           \u001b[01;34mutil\u001b[0m/\n"
          ],
          "name": "stdout"
        }
      ]
    },
    {
      "cell_type": "code",
      "metadata": {
        "id": "ahoxW27dg2o6"
      },
      "source": [
        ""
      ],
      "execution_count": null,
      "outputs": []
    }
  ]
}